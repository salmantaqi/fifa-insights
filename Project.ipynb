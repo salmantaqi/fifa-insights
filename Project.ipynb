{
 "cells": [
  {
   "cell_type": "markdown",
   "id": "14bee4f0",
   "metadata": {},
   "source": [
    "# TITLE\n",
    "### Exploring the Relationship Between Soccer Player Wages and Performance Attributes: A Study Using FIFA 19 Player Dataset"
   ]
  },
  {
   "cell_type": "markdown",
   "id": "1fcc707c",
   "metadata": {},
   "source": [
    "# ABSTRACT\n",
    "This project aims to explore the relationship between player attributes and wages in the FIFA 19 videogame. We used a dataset of over 18,000 players and conducted statistical tests such as z-test and chi-square test to analyze the data. Our findings indicate that there are significant differences in wages between different positions and skill levels. These results can be used by soccer clubs to make informed decisions when it comes to player recruitment and salary negotiations."
   ]
  },
  {
   "cell_type": "markdown",
   "id": "6e29622f",
   "metadata": {},
   "source": [
    "# INTRODUCTION\n",
    "The world of soccer has grown significantly over the past few decades, with more than 250 million players in over 200 countries. With such a vast number of players, it has become increasingly important to analyze data related to player attributes, performances, and salaries. The purpose of this project is to investigate the differences in player performance and salaries based on various attributes such as footedness and player position. We will explore different aspects of the data using statistical methods to draw conclusions and provide insights for decision-makers in the soccer industry.\n",
    "\n",
    "We will compare the mean overall rating of left-footed players and right-footed players using a z-test to determine if there is a significant difference in performance between these two groups. Then, we will perform an ANOVA to test if there is a significant difference in the mean overall rating across different player positions. This analysis could help teams identify which positions they should focus on when recruiting or training players. Finally, we will perform the analysis of categorical data using the chi-square test of independence to determine if there is any association between player position and salary. This analysis could be used to identify any disparities in salaries across different player positions and take steps to address them.\n",
    "\n",
    "The results of this project could be useful for soccer teams, agents, and other decision-makers in the industry. By gaining insights into player performance and salaries, teams can make more informed decisions about which players to acquire and how much to pay them. Moreover, these insights could help identify any areas where improvements can be made to create a more fair and equitable industry for all players."
   ]
  },
  {
   "cell_type": "markdown",
   "id": "6e74d7c7",
   "metadata": {},
   "source": [
    "# DATA DESCRIPTION\n",
    "The FIFA 19 Player Dataset is a comprehensive collection of data on professional football players, including their personal information, physical attributes, performance statistics, and market value. This dataset is compiled from EA Sports' popular video game FIFA 19, which features accurate and detailed information on thousands of players from around the world. The link to the dataset is the following- https://www.kaggle.com/datasets/chaitanyahivlekar/fifa-19-player-dataset\n",
    "\n",
    "The dataset contains information on over 18,000 players, including their names, ages, nationalities, club teams, positions, and overall ratings. Each player is assigned a unique identifier, which is used to track their performance and market value over time. The dataset also includes detailed physical attributes such as height, weight, preferred foot, and skill moves, as well as more subjective attributes like work rate, weak foot ability, and international reputation.\n",
    "In addition to personal and physical attributes, the dataset contains a wide range of performance statistics for each player, including their goals, assists, appearances, and clean sheets. These statistics are broken down by season, allowing for detailed analysis of a player's performance over time. The dataset also includes information on a player's value and wage, which are key indicators of their marketability and earning potential.\n",
    "\n",
    "One of the key features of this dataset is its extensive coverage of players from around the world. The dataset includes players from over 50 countries, representing a diverse range of football cultures and styles of play. This makes it an ideal resource for studying global trends in football, such as the rise of South American players in European leagues or the dominance of European teams in international competitions.\n",
    "\n",
    "Another important feature of the dataset is its ability to track changes in player performance and market value over time. By analyzing trends in player statistics and market value, researchers can gain insights into the factors that influence player success and identify potential opportunities for investment and development.\n"
   ]
  },
  {
   "cell_type": "code",
   "execution_count": 1,
   "id": "33c38ffc",
   "metadata": {},
   "outputs": [
    {
     "name": "stdout",
     "output_type": "stream",
     "text": [
      "   Unnamed: 0               Name  Age Nationality  Overall  Potential  \\\n",
      "0           0           L. Messi   31   Argentina       94         94   \n",
      "1           1  Cristiano Ronaldo   33    Portugal       94         94   \n",
      "2           2          Neymar Jr   26      Brazil       92         93   \n",
      "3           3             De Gea   27       Spain       91         93   \n",
      "4           4       K. De Bruyne   27     Belgium       91         92   \n",
      "\n",
      "                  Club    Value    Wage Preferred Foot  ...  StandingTackle  \\\n",
      "0         FC Barcelona  €110.5M  565000           Left  ...              28   \n",
      "1             Juventus     €77M  405000          Right  ...              31   \n",
      "2  Paris Saint-Germain  €118.5M  290000          Right  ...              24   \n",
      "3    Manchester United     €72M  260000          Right  ...              21   \n",
      "4      Manchester City    €102M  355000          Right  ...              58   \n",
      "\n",
      "   SlidingTackle  GKDiving GKHandling GKKicking  GKPositioning GKReflexes  \\\n",
      "0             26         6         11        15             14          8   \n",
      "1             23         7         11        15             14         11   \n",
      "2             33         9          9        15             15         11   \n",
      "3             13        90         85        87             88         94   \n",
      "4             51        15         13         5             10         13   \n",
      "\n",
      "  Release Clause             League           Speciality  \n",
      "0        €226.5M   LALIGA SANTANDER     Complete Forward  \n",
      "1        €127.1M        SERIE A TIM     Distance Shooter  \n",
      "2        €228.1M  LIGUE 1 CONFORAMA     Complete Forward  \n",
      "3        €138.6M     PREMIER LEAGUE           Goalkeeper  \n",
      "4        €196.4M     PREMIER LEAGUE  Complete Midfielder  \n",
      "\n",
      "[5 rows x 58 columns]\n",
      "<class 'pandas.core.frame.DataFrame'>\n",
      "RangeIndex: 18147 entries, 0 to 18146\n",
      "Data columns (total 58 columns):\n",
      " #   Column                    Non-Null Count  Dtype \n",
      "---  ------                    --------------  ----- \n",
      " 0   Unnamed: 0                18147 non-null  int64 \n",
      " 1   Name                      18147 non-null  object\n",
      " 2   Age                       18147 non-null  int64 \n",
      " 3   Nationality               18147 non-null  object\n",
      " 4   Overall                   18147 non-null  int64 \n",
      " 5   Potential                 18147 non-null  int64 \n",
      " 6   Club                      18147 non-null  object\n",
      " 7   Value                     18147 non-null  object\n",
      " 8   Wage                      18147 non-null  int64 \n",
      " 9   Preferred Foot            18147 non-null  object\n",
      " 10  International Reputation  18147 non-null  int64 \n",
      " 11  Weak Foot                 18147 non-null  int64 \n",
      " 12  Skill Moves               18147 non-null  int64 \n",
      " 13  Work Rate                 18147 non-null  object\n",
      " 14  Position                  18147 non-null  object\n",
      " 15  Jersey Number             18147 non-null  int64 \n",
      " 16  Joined                    16654 non-null  object\n",
      " 17  Loaned From               18147 non-null  object\n",
      " 18  Contract Valid Until      18147 non-null  object\n",
      " 19  Height                    18147 non-null  object\n",
      " 20  Weight                    18147 non-null  object\n",
      " 21  Crossing                  18147 non-null  int64 \n",
      " 22  Finishing                 18147 non-null  int64 \n",
      " 23  HeadingAccuracy           18147 non-null  int64 \n",
      " 24  ShortPassing              18147 non-null  int64 \n",
      " 25  Volleys                   18147 non-null  int64 \n",
      " 26  Dribbling                 18147 non-null  int64 \n",
      " 27  Curve                     18147 non-null  int64 \n",
      " 28  FKAccuracy                18147 non-null  int64 \n",
      " 29  LongPassing               18147 non-null  int64 \n",
      " 30  BallControl               18147 non-null  int64 \n",
      " 31  Acceleration              18147 non-null  int64 \n",
      " 32  SprintSpeed               18147 non-null  int64 \n",
      " 33  Agility                   18147 non-null  int64 \n",
      " 34  Reactions                 18147 non-null  int64 \n",
      " 35  Balance                   18147 non-null  int64 \n",
      " 36  ShotPower                 18147 non-null  int64 \n",
      " 37  Jumping                   18147 non-null  int64 \n",
      " 38  Stamina                   18147 non-null  int64 \n",
      " 39  Strength                  18147 non-null  int64 \n",
      " 40  LongShots                 18147 non-null  int64 \n",
      " 41  Aggression                18147 non-null  int64 \n",
      " 42  Interceptions             18147 non-null  int64 \n",
      " 43  Positioning               18147 non-null  int64 \n",
      " 44  Vision                    18147 non-null  int64 \n",
      " 45  Penalties                 18147 non-null  int64 \n",
      " 46  Composure                 18147 non-null  int64 \n",
      " 47  Marking                   18147 non-null  int64 \n",
      " 48  StandingTackle            18147 non-null  int64 \n",
      " 49  SlidingTackle             18147 non-null  int64 \n",
      " 50  GKDiving                  18147 non-null  int64 \n",
      " 51  GKHandling                18147 non-null  int64 \n",
      " 52  GKKicking                 18147 non-null  int64 \n",
      " 53  GKPositioning             18147 non-null  int64 \n",
      " 54  GKReflexes                18147 non-null  int64 \n",
      " 55  Release Clause            18147 non-null  object\n",
      " 56  League                    18147 non-null  object\n",
      " 57  Speciality                18147 non-null  object\n",
      "dtypes: int64(43), object(15)\n",
      "memory usage: 8.0+ MB\n",
      "None\n",
      "         Unnamed: 0           Age       Overall     Potential           Wage  \\\n",
      "count  18147.000000  18147.000000  18147.000000  18147.000000   18147.000000   \n",
      "mean    9089.239599     25.121122     66.253926     71.324076    9759.023530   \n",
      "std     5257.923360      4.669796      6.913320      6.132286   22030.250349   \n",
      "min        0.000000     16.000000     46.000000     48.000000       0.000000   \n",
      "25%     4536.500000     21.000000     62.000000     67.000000    1000.000000   \n",
      "50%     9076.000000     25.000000     66.000000     71.000000    3000.000000   \n",
      "75%    13662.500000     28.000000     71.000000     75.000000    9000.000000   \n",
      "max    18206.000000     45.000000     94.000000     95.000000  565000.000000   \n",
      "\n",
      "       International Reputation     Weak Foot   Skill Moves  Jersey Number  \\\n",
      "count              18147.000000  18147.000000  18147.000000   18147.000000   \n",
      "mean                   1.113297      2.947154      2.361492      19.546096   \n",
      "std                    0.394150      0.660498      0.756274      15.947765   \n",
      "min                    1.000000      1.000000      1.000000       1.000000   \n",
      "25%                    1.000000      3.000000      2.000000       8.000000   \n",
      "50%                    1.000000      3.000000      2.000000      17.000000   \n",
      "75%                    1.000000      3.000000      3.000000      26.000000   \n",
      "max                    5.000000      5.000000      5.000000      99.000000   \n",
      "\n",
      "           Crossing  ...     Penalties     Composure       Marking  \\\n",
      "count  18147.000000  ...  18147.000000  18147.000000  18147.000000   \n",
      "mean      49.738414  ...     48.546371     58.651127     47.286053   \n",
      "std       18.364255  ...     15.703113     11.437138     19.900450   \n",
      "min        5.000000  ...      5.000000      3.000000      3.000000   \n",
      "25%       38.000000  ...     39.000000     51.000000     30.000000   \n",
      "50%       54.000000  ...     49.000000     60.000000     53.000000   \n",
      "75%       64.000000  ...     60.000000     67.000000     64.000000   \n",
      "max       93.000000  ...     92.000000     96.000000     94.000000   \n",
      "\n",
      "       StandingTackle  SlidingTackle      GKDiving    GKHandling  \\\n",
      "count    18147.000000   18147.000000  18147.000000  18147.000000   \n",
      "mean        47.701879      45.666336     16.616906     16.393839   \n",
      "std         21.663630      21.287961     17.698612     16.909971   \n",
      "min          2.000000       3.000000      1.000000      1.000000   \n",
      "25%         27.000000      24.000000      8.000000      8.000000   \n",
      "50%         55.000000      52.000000     11.000000     11.000000   \n",
      "75%         66.000000      64.000000     14.000000     14.000000   \n",
      "max         93.000000      91.000000     90.000000     92.000000   \n",
      "\n",
      "          GKKicking  GKPositioning    GKReflexes  \n",
      "count  18147.000000   18147.000000  18147.000000  \n",
      "mean      16.233041      16.389651     16.712019  \n",
      "std       16.504103      17.037031     17.957521  \n",
      "min        1.000000       1.000000      1.000000  \n",
      "25%        8.000000       8.000000      8.000000  \n",
      "50%       11.000000      11.000000     11.000000  \n",
      "75%       14.000000      14.000000     14.000000  \n",
      "max       91.000000      90.000000     94.000000  \n",
      "\n",
      "[8 rows x 43 columns]\n"
     ]
    }
   ],
   "source": [
    "import pandas as pd\n",
    "import numpy as np\n",
    "import matplotlib.pyplot as plt\n",
    "import seaborn as sns\n",
    "from scipy.stats import norm\n",
    "from scipy.stats import f_oneway\n",
    "from scipy.stats import f\n",
    "from scipy.stats import chi2_contingency\n",
    "from sklearn.linear_model import LinearRegression\n",
    "from sklearn.metrics import mean_squared_error, r2_score\n",
    "from sklearn.model_selection import train_test_split\n",
    "from sklearn.metrics import r2_score\n",
    "from sklearn.model_selection import cross_val_score, train_test_split\n",
    "from sklearn.metrics import mean_squared_error\n",
    "from sklearn.linear_model import Lasso\n",
    "from sklearn.model_selection import train_test_split\n",
    "from sklearn.preprocessing import StandardScaler\n",
    "from sklearn.preprocessing import PolynomialFeatures\n",
    "\n",
    "\n",
    "\n",
    "fifa19 = pd.read_csv(r\"C:\\Users\\Salman\\Desktop\\MA 541\\Project\\FIFA19.csv\")\n",
    "\n",
    "print(fifa19.head())\n",
    "\n",
    "print(fifa19.info())\n",
    "\n",
    "print(fifa19.describe())\n"
   ]
  },
  {
   "cell_type": "code",
   "execution_count": 2,
   "id": "e3323672",
   "metadata": {},
   "outputs": [
    {
     "data": {
      "text/plain": [
       "Unnamed: 0                     0\n",
       "Name                           0\n",
       "Age                            0\n",
       "Nationality                    0\n",
       "Overall                        0\n",
       "Potential                      0\n",
       "Club                           0\n",
       "Value                          0\n",
       "Wage                           0\n",
       "Preferred Foot                 0\n",
       "International Reputation       0\n",
       "Weak Foot                      0\n",
       "Skill Moves                    0\n",
       "Work Rate                      0\n",
       "Position                       0\n",
       "Jersey Number                  0\n",
       "Joined                      1493\n",
       "Loaned From                    0\n",
       "Contract Valid Until           0\n",
       "Height                         0\n",
       "Weight                         0\n",
       "Crossing                       0\n",
       "Finishing                      0\n",
       "HeadingAccuracy                0\n",
       "ShortPassing                   0\n",
       "Volleys                        0\n",
       "Dribbling                      0\n",
       "Curve                          0\n",
       "FKAccuracy                     0\n",
       "LongPassing                    0\n",
       "BallControl                    0\n",
       "Acceleration                   0\n",
       "SprintSpeed                    0\n",
       "Agility                        0\n",
       "Reactions                      0\n",
       "Balance                        0\n",
       "ShotPower                      0\n",
       "Jumping                        0\n",
       "Stamina                        0\n",
       "Strength                       0\n",
       "LongShots                      0\n",
       "Aggression                     0\n",
       "Interceptions                  0\n",
       "Positioning                    0\n",
       "Vision                         0\n",
       "Penalties                      0\n",
       "Composure                      0\n",
       "Marking                        0\n",
       "StandingTackle                 0\n",
       "SlidingTackle                  0\n",
       "GKDiving                       0\n",
       "GKHandling                     0\n",
       "GKKicking                      0\n",
       "GKPositioning                  0\n",
       "GKReflexes                     0\n",
       "Release Clause                 0\n",
       "League                         0\n",
       "Speciality                     0\n",
       "dtype: int64"
      ]
     },
     "execution_count": 2,
     "metadata": {},
     "output_type": "execute_result"
    }
   ],
   "source": [
    "fifa19.isnull().sum()\n"
   ]
  },
  {
   "cell_type": "markdown",
   "id": "72d5b2fc",
   "metadata": {},
   "source": [
    "# 4.1 Comparing Two Samples-\n",
    "We will compare the mean wages (salary) of the left-footed and right-footed players in the game, to check whether there is any significant difference between the two groups. We will perform this comparison using the z-test as the number of samples in this dataset is very large. \n",
    "\n",
    "The results of this test can provide insights into whether there is any difference between the wages of left-footed and right-footed soccer players. If the results of the z-test suggest asignificant difference in the mean wages of left-footed and right-footed players, this may indicate that one group of players is more highly valued or in greater demand than the other. As a result, teams, agents, and other stakeholders in the soccer industry may adjust their strategies for recruitment, scouting, and player development accordingly."
   ]
  },
  {
   "cell_type": "code",
   "execution_count": 3,
   "id": "468a59c8",
   "metadata": {},
   "outputs": [
    {
     "name": "stdout",
     "output_type": "stream",
     "text": [
      "Mean wages of left-footed players:  10353.290567830838\n",
      "Mean wages of right-footed players:  9579.566652317406\n",
      "Test statistic:  1.8981027408159028\n",
      "P-value:  0.05768254919771028 \n",
      "\n",
      "Fail to reject the null hypothesis. There is no significant difference between the mean wages of left-footed and right-footed players.\n"
     ]
    }
   ],
   "source": [
    "# Defining the hypotheses-\n",
    "# H0: There is no significant difference in the mean wages of the left-footed and right-footed players.\n",
    "# H1: Not H0.\n",
    "\n",
    "left_footed = fifa19[fifa19[\"Preferred Foot\"] == \"Left\"]\n",
    "right_footed = fifa19[fifa19[\"Preferred Foot\"] == \"Right\"]\n",
    "\n",
    "mean_left = left_footed[\"Wage\"].mean()\n",
    "mean_right = right_footed[\"Wage\"].mean()\n",
    "std_left = left_footed[\"Wage\"].std()\n",
    "std_right = right_footed[\"Wage\"].std()\n",
    "n_left = left_footed[\"Wage\"].count()\n",
    "n_right = right_footed[\"Wage\"].count()\n",
    "print('Mean wages of left-footed players: ', mean_left)\n",
    "print('Mean wages of right-footed players: ', mean_right)\n",
    "\n",
    "z = (mean_left - mean_right) / ((std_left**2 / n_left) + (std_right**2 / n_right))**0.5\n",
    "print(\"Test statistic: \", z)\n",
    "\n",
    "p_value = norm.sf(abs(z))*2\n",
    "print(\"P-value: \", p_value, '\\n')\n",
    "\n",
    "alpha = 0.05\n",
    "\n",
    "if p_value < alpha:\n",
    "    print(\"Reject the null hypothesis. There is a significant difference between the mean wages of left-footed and right-footed players.\")\n",
    "else:\n",
    "    print(\"Fail to reject the null hypothesis. There is no significant difference between the mean wages of left-footed and right-footed players.\")\n"
   ]
  },
  {
   "cell_type": "markdown",
   "id": "c1b50485",
   "metadata": {},
   "source": [
    "# 4.2 The Analysis of Variance-\n",
    "We will perform ANOVA to test if there is a significant difference in the mean overall rating across the different player positions.\n",
    "(ST- Attacker, CM- Midfielder, CB- Defender, GK- Goalkeeper)\n",
    "\n",
    "It is a statistical technique used to compare the means of two or more groups of data. ANOVA helps us determine if there is a significant difference between the groups, or if any observed differences are likely due to random sampling variation."
   ]
  },
  {
   "cell_type": "code",
   "execution_count": 4,
   "id": "81b562ea",
   "metadata": {},
   "outputs": [
    {
     "name": "stdout",
     "output_type": "stream",
     "text": [
      "F-statistic:  19.2403771172369\n",
      "Critical value:  2.6053987903176643\n"
     ]
    }
   ],
   "source": [
    "# Defining the hypotheses-\n",
    "# H0: There is no significant difference in the mean overall rating across different player positions.\n",
    "# H1: Not H0.\n",
    "\n",
    "forward_players = fifa19[fifa19['Position'] == 'ST']\n",
    "midfielder_players = fifa19[fifa19['Position'] == 'CM']\n",
    "defender_players = fifa19[fifa19['Position'] == 'CB']\n",
    "goalkeeper_players = fifa19[fifa19['Position'] == 'GK']\n",
    "\n",
    "alpha = 0.05\n",
    "\n",
    "f_statistic, p_value = f_oneway(forward_players['Overall'], midfielder_players['Overall'], defender_players['Overall'], goalkeeper_players['Overall'])\n",
    "print('F-statistic: ', f_statistic)\n",
    "\n",
    "df_between = 3\n",
    "df_within = fifa19.shape[0] - df_between*4\n",
    "critical_value = f.ppf(1-alpha, df_between, df_within)\n",
    "print('Critical value: ', critical_value)\n"
   ]
  },
  {
   "cell_type": "code",
   "execution_count": 5,
   "id": "f48c1830",
   "metadata": {},
   "outputs": [
    {
     "name": "stdout",
     "output_type": "stream",
     "text": [
      "Reject the null hypothesis. There is a significant difference in the mean overall rating across different player positions.\n"
     ]
    }
   ],
   "source": [
    "if f_statistic > critical_value:\n",
    "    print(\"Reject the null hypothesis. There is a significant difference in the mean overall rating across different player positions.\")\n",
    "else:\n",
    "    print(\"Fail to reject the null hypothesis. There is no significant difference in the mean overall rating across different player positions.\")\n"
   ]
  },
  {
   "cell_type": "markdown",
   "id": "6f14dec9",
   "metadata": {},
   "source": [
    "# 4.3 The Analysis of Categorical Data-\n",
    " We will perform the categorical data analysis using the chi-square test of independence. This test is used to determine if there is a significant association between two categorical variables. The two variables are \"Position\" and \"Salary\" (categorical, after being converted to a categorical variable based on quartiles). We want to test whether there is a significant association between these two variables."
   ]
  },
  {
   "cell_type": "code",
   "execution_count": 6,
   "id": "07bbca3a",
   "metadata": {},
   "outputs": [
    {
     "name": "stdout",
     "output_type": "stream",
     "text": [
      "The range of wages in the Very High quartile is from €10000 to €565000.\n",
      "The range of wages in the Low quartile is from €0 to €1000.\n",
      "The range of wages in the High quartile is from €4000 to €9000.\n",
      "The range of wages in the Medium quartile is from €2000 to €3000.\n",
      "\n",
      "\n",
      "Salary Category  Low  Medium  High  Very High\n",
      "Position                                     \n",
      "CAM              271     213   223        251\n",
      "CB               580     510   355        333\n",
      "CDM              266     240   226        216\n",
      "CF                25      18     8         23\n",
      "CM               515     364   246        269\n",
      "GK               874     463   355        333\n",
      "LAM                0       3     4         14\n",
      "LB               377     372   291        282\n",
      "LCB              118     159   170        201\n",
      "LCM               58     106    95        136\n",
      "LDM               55      54    59         75\n",
      "LF                 1       4     3          7\n",
      "LM               267     275   273        280\n",
      "LS                21      50    49         87\n",
      "LW                89     103    89        100\n",
      "LWB               23      23    12         20\n",
      "RAM                2       2     2         15\n",
      "RB               360     370   283        278\n",
      "RCB              117     171   173        201\n",
      "RCM               55     104   109        123\n",
      "RDM               48      54    59         87\n",
      "RF                 0       3     4          9\n",
      "RM               298     287   264        275\n",
      "RS                21      50    62         70\n",
      "RW                85      93    88        104\n",
      "RWB               28      23    16         20\n",
      "ST               548     551   525        528\n",
      "\n",
      "Chi-square value:  769.6711307097052\n",
      "p-value:  2.7226385414426825e-114 \n",
      "\n",
      "Reject the null hypothesis. There is a significant relationship between the two categorical variables being compared.\n"
     ]
    }
   ],
   "source": [
    "# Defining the hypotheses-\n",
    "# H0: There is no relationship between the two categorical variables being compared.\n",
    "# H1: Not H0.\n",
    "\n",
    "fifa19['Salary Category'] = pd.qcut(fifa19['Wage'], q=4, labels=['Low', 'Medium', 'High', 'Very High'])\n",
    "\n",
    "for quartile in fifa19['Salary Category'].unique():\n",
    "    min_wage = fifa19[fifa19['Salary Category'] == quartile]['Wage'].min()\n",
    "    max_wage = fifa19[fifa19['Salary Category'] == quartile]['Wage'].max()\n",
    "    print(f\"The range of wages in the {quartile} quartile is from €{min_wage} to €{max_wage}.\")\n",
    "\n",
    "print('\\n')\n",
    "\n",
    "contingency_table = pd.crosstab(fifa19['Position'], fifa19['Salary Category'])\n",
    "contingency_table = contingency_table.replace(np.nan, 0)\n",
    "contingency_table = contingency_table.replace(np.inf, 0)\n",
    "print(contingency_table)\n",
    "\n",
    "chi2, p_value, dof, expected = chi2_contingency(contingency_table)\n",
    "print(\"\\nChi-square value: \", chi2)\n",
    "print(\"p-value: \", p_value, '\\n')\n",
    "\n",
    "if p_value < 0.05:\n",
    "    print(\"Reject the null hypothesis. There is a significant relationship between the two categorical variables being compared.\")\n",
    "else:\n",
    "    print(\"Fail to reject the null hypothesis. We do not have enough evidence to reject the null hypothesis. There is a significant relationship between the salary of players and their positions on the field.\")\n"
   ]
  },
  {
   "cell_type": "markdown",
   "id": "a3214e7e",
   "metadata": {},
   "source": [
    "This means that the data provides strong evidence to support the claim that there is a relationship between a player's position and their salary category. Specifically, it suggests that certain positions tend to have higher salaries than others.   \n",
    "In the real world, this finding could be useful in a variety of ways. For example, it could be used by clubs and managers during decision-making when it comes to player acquisition, contract negotiations and squad building. It could also be of interest to agents and representatives who are negotiating contracts for players."
   ]
  },
  {
   "cell_type": "markdown",
   "id": "9406e667",
   "metadata": {},
   "source": [
    "# 4.4 Linear Regression-\n",
    "We will perform a linear regression to find the relationship between a player's rating and their wage.\n",
    "Linear regression is a statistical technique used to model the relationship between two variables by fitting a linear equation to the observed data. It assumes that there is a linear relationship between the independent variable and the dependent variable. The goal of linear regression is to find the best-fitting straight line through the data, which can be used to predict the value. \n",
    "\n",
    "In this specific example, we will try to use the overall ratings of the players in order to predict their wages."
   ]
  },
  {
   "cell_type": "code",
   "execution_count": 7,
   "id": "a073b6f7",
   "metadata": {},
   "outputs": [
    {
     "name": "stdout",
     "output_type": "stream",
     "text": [
      "Mean squared error:  427652443.59555185\n",
      "R-squared: 0.2972323505316462\n"
     ]
    },
    {
     "data": {
      "image/png": "[encoded data removed]",
      "text/plain": [
       "<Figure size 432x288 with 1 Axes>"
      ]
     },
     "metadata": {
      "needs_background": "light"
     },
     "output_type": "display_data"
    }
   ],
   "source": [
    "fifa19 = fifa19.dropna()\n",
    "\n",
    "X = fifa19['Overall'].values.reshape(-1, 1) # independent variable\n",
    "y = fifa19['Wage'].values.reshape(-1, 1) # dependent variable\n",
    "\n",
    "X_train, X_test, y_train, y_test = train_test_split(X, y, test_size=0.2, random_state=42)\n",
    "\n",
    "lr = LinearRegression()\n",
    "lr.fit(X_train, y_train)\n",
    "y_pred = lr.predict(X_test)\n",
    "\n",
    "mse = mean_squared_error(y_test, y_pred)\n",
    "print(\"Mean squared error: \", mse)\n",
    "\n",
    "r2 = r2_score(y_test, y_pred)\n",
    "print('R-squared:', r2)\n",
    "\n",
    "plt.scatter(X_test, y_test, color='blue')\n",
    "plt.plot(X_test, y_pred, color='red', linewidth=2)\n",
    "plt.title('Relationship between Overall Rating and Wages')\n",
    "plt.xlabel('Overall Rating')\n",
    "plt.ylabel('Wages')\n",
    "plt.show()\n"
   ]
  },
  {
   "cell_type": "code",
   "execution_count": 13,
   "id": "f99c61d1",
   "metadata": {},
   "outputs": [
    {
     "name": "stdout",
     "output_type": "stream",
     "text": [
      "   Overall      Wage\n",
      "0       94  565000.0\n",
      "1       94  405000.0\n",
      "2       92  290000.0\n",
      "3       91  260000.0\n",
      "4       91  355000.0\n"
     ]
    }
   ],
   "source": [
    "fifa19 = fifa19[[\"Overall\", \"Wage\"]]\n",
    "\n",
    "fifa19[\"Wage\"] = fifa19[\"Wage\"].astype(float)\n",
    "print(fifa19.head())\n"
   ]
  },
  {
   "cell_type": "markdown",
   "id": "9aef0145",
   "metadata": {},
   "source": [
    "An R-squared value of 0.297 suggests that the linear regression model explains around 29.7% of the variance in wages based on ratings. This indicates that there are likely other factors that influence wages as well, and the model is not able to capture all of the variation in the data."
   ]
  },
  {
   "cell_type": "markdown",
   "id": "9b6c5812",
   "metadata": {},
   "source": [
    "# 4.5 Resampling Methods-\n",
    "Cross-validation is a statistical technique used to evaluate how well a machine learning model generalizes to new, unseen data. It involves partitioning a dataset into subsets, or folds, where one fold is used as the testing set and the remaining folds are used as the training set. This process is repeated multiple times, with different folds being used as the testing set each time. The performance of the model is then averaged over all the iterations to provide an estimate of the model's accuracy.\n",
    "\n",
    "We first split the dataset into features and target variables. We then split the dataset into training and testing sets using an 80-20 split. We create a Linear Regression model and then perform 10-fold cross-validation on the training set using Scikit-Learn."
   ]
  },
  {
   "cell_type": "code",
   "execution_count": 8,
   "id": "222dc502",
   "metadata": {},
   "outputs": [
    {
     "name": "stdout",
     "output_type": "stream",
     "text": [
      "Average MSE score from 10-fold cross-validation:  12432875227166.402\n",
      "Test MSE:  11741755484862.246\n"
     ]
    }
   ],
   "source": [
    "fifa19 = pd.read_csv('fifa19.csv')\n",
    "\n",
    "def value_to_float(x):\n",
    "    if 'K' in x:\n",
    "        return float(x.replace('€', '').replace('K', '')) * 1000\n",
    "    elif 'M' in x:\n",
    "        return float(x.replace('€', '').replace('M', '')) * 1000000\n",
    "    else:\n",
    "        return float(x.replace('€', ''))\n",
    "\n",
    "fifa19['Value'] = fifa19['Value'].apply(value_to_float)\n",
    "X = fifa19[['Overall', 'Potential', 'International Reputation', 'Skill Moves', 'Jersey Number', 'Age']]\n",
    "y = fifa19['Value']\n",
    "\n",
    "X_train, X_test, y_train, y_test = train_test_split(X, y, test_size=0.2, random_state=42)\n",
    "\n",
    "model = LinearRegression()\n",
    "alphas = [0.001, 0.01, 0.1, 1, 10, 100, 1000]\n",
    "\n",
    "scores = cross_val_score(model, X_train, y_train, cv=10, scoring='neg_mean_squared_error', error_score='raise')\n",
    "if np.isnan(scores).any():\n",
    "    print(\"Warning: NaN values in scores array.\")\n",
    "\n",
    "avg_score = -1 * scores.mean()\n",
    "print(\"Average MSE score from 10-fold cross-validation: \", avg_score)\n",
    "\n",
    "model.fit(X_train, y_train)\n",
    "y_pred = model.predict(X_test)\n",
    "test_mse = mean_squared_error(y_test, y_pred)\n",
    "print(\"Test MSE: \", test_mse)\n"
   ]
  },
  {
   "cell_type": "markdown",
   "id": "3e7c8ca3",
   "metadata": {},
   "source": [
    "The average MSE score represents the average mean squared error (MSE) across 10 rounds of cross-validation. The average MSE score from cross-validation gives an estimate of how well the model is likely to perform on new, unseen data. The result obatined is quite high, which suggests that the model may not be fitting the data very well.\n"
   ]
  },
  {
   "cell_type": "markdown",
   "id": "a27a7411",
   "metadata": {},
   "source": [
    "# 4.6 Linear Model Selection and Regularization-\n",
    "Linear model selection and regularization refer to a set of techniques used to improve the performance of linear regression models by selecting the most relevant features and reducing overfitting. \n",
    "Linear model selection addresses this issue by identifying the most relevant variables to include in the model. Regularization, on the other hand, is a technique that reduces overfitting by imposing a penalty on the magnitude of the model coefficients. The two most common forms of regularization are Lasso and Ridge.\n",
    "\n",
    "Lasso regularization is a technique used to prevent overfitting in a regression model. It helps the model to focus on the most important features and avoid being too complex, which can be especially useful when dealing with high-dimensional datasets with many features."
   ]
  },
  {
   "cell_type": "code",
   "execution_count": 9,
   "id": "1c9f634a",
   "metadata": {},
   "outputs": [
    {
     "name": "stdout",
     "output_type": "stream",
     "text": [
      "R^2 score: 0.5122648918555313\n"
     ]
    }
   ],
   "source": [
    "X = fifa19[[\"Wage\", \"Potential\"]]\n",
    "y = fifa19[\"Overall\"]\n",
    "\n",
    "scaler = StandardScaler()\n",
    "X = scaler.fit_transform(X)\n",
    "\n",
    "X_train, X_test, y_train, y_test = train_test_split(X, y, test_size=0.2, random_state=42)\n",
    "\n",
    "alpha = 0.1 \n",
    "model = Lasso(alpha=alpha).fit(X_train, y_train)\n",
    "\n",
    "score = model.score(X_test, y_test)\n",
    "print(f\"R^2 score: {score}\")\n"
   ]
  },
  {
   "cell_type": "markdown",
   "id": "f8c59f79",
   "metadata": {},
   "source": [
    "This R^2 score means that the model explains about 51% of the variance in the target variablem i.e. \"Overall\". Basically, the model is able to capture some of the underlying relationship between \"Wage\", \"Potential\", and \"Overall\", but there is still a lot of variation that the model cannot account for."
   ]
  },
  {
   "cell_type": "markdown",
   "id": "4a7ece12",
   "metadata": {},
   "source": [
    "# 4.7 Moving Beyond Linearity- \n",
    "In this section we will perform a polynomial regression to assess the relationship between a player's overall rating and their wage. Polynomial regression is a type of regression analysis in which the relationship between the independent variable x and the dependent variable y is modeled as an n-th degree polynomial function. The goal of polynomial regression is to find the best-fitting polynomial curve that describes the relationship between x and y in the data."
   ]
  },
  {
   "cell_type": "code",
   "execution_count": 10,
   "id": "7d4ef90d",
   "metadata": {},
   "outputs": [
    {
     "name": "stdout",
     "output_type": "stream",
     "text": [
      "Root-mean-squared-error: 12083.993325441523\n",
      "R-squared: 0.6346305915393289\n"
     ]
    },
    {
     "data": {
      "image/png": "[encoded data removed]",
      "text/plain": [
       "<Figure size 432x288 with 1 Axes>"
      ]
     },
     "metadata": {
      "needs_background": "light"
     },
     "output_type": "display_data"
    }
   ],
   "source": [
    "X = fifa19['Overall'].values.reshape(-1, 1)\n",
    "y = fifa19['Wage'].values.reshape(-1, 1)\n",
    "\n",
    "X_train, X_test, y_train, y_test = train_test_split(X, y, test_size=0.2, random_state=0)\n",
    "\n",
    "poly_degree = 2 \n",
    "poly_features = PolynomialFeatures(degree=poly_degree)\n",
    "X_poly_train = poly_features.fit_transform(X_train)\n",
    "poly_model = LinearRegression()\n",
    "poly_model.fit(X_poly_train, y_train)\n",
    "X_poly_test = poly_features.transform(X_test)\n",
    "y_pred = poly_model.predict(X_poly_test)\n",
    "\n",
    "rmse = np.sqrt(mean_squared_error(y_test, y_pred))\n",
    "r2 = r2_score(y_test, y_pred)\n",
    "print('Root-mean-squared-error:', rmse)\n",
    "print('R-squared:', r2)\n",
    "\n",
    "plt.scatter(X_test, y_test, color='blue', label='Test data')\n",
    "plt.plot(X_test, y_pred, color='red', linewidth=2, label='Predicted data')\n",
    "plt.title('Polynomial Regression')\n",
    "plt.xlabel('Overall Rating')\n",
    "plt.ylabel('Wage')\n",
    "plt.legend()\n",
    "plt.show()\n"
   ]
  },
  {
   "cell_type": "markdown",
   "id": "ab88fc6e",
   "metadata": {},
   "source": [
    "The RMSE shows that on average, the predicted wages from the model differ from the true wages by around €12,084, which isn't too bad of a prediction. The R-squared value indicates that the model explains around 63.5% of the variance in the wages. This model is much more accurate and true when compared to the linear regression model which had an R-squared value of 29.7%, that is the polynomial regression model has more than twice the R-squared value of the other.\n",
    "\n",
    "These results suggest that there is a moderate positive relationship between a player's overall rating and their wage, with higher-rated players generally earning higher wages. "
   ]
  },
  {
   "cell_type": "markdown",
   "id": "b5ab6e11",
   "metadata": {},
   "source": [
    "# CONCLUSION\n",
    "Based on the project's findings, it is clear that there is a significant relationship between a player's wages and their performance attributes in soccer. The z-test results suggest that there isn't a significant difference in the wages of left-footed and right-footed players, which could have had implications for team selection strategies and negotiation of player contracts. The categorical data analysis reveals that there is a significant association between a player's position and salary. This information could be used by managers to make more informed decisions about player recruitment and salary negotiation.\n",
    "\n",
    "The use of cross-validation and Lasso regularization techniques in the machine learning model ensures that the model is pretty reliable and not overfitting the data too much. This could lead to more accurate predictions and insights for teams and player agents.\n",
    "\n",
    "The linear regression results suggest that a player's rating has a positive relationship with their wage. But the polynomial regression results suggest that a player's overall rating has a much more positive relationship with their wage. This information could be used by teams to justify higher wages for players with higher overall ratings, as well as by player agents to negotiate better contracts for their clients.\n",
    "\n",
    "Finally, this project's findings have significant implications for the soccer industry, providing valuable insights into the relationship between player wages and performance attributes. These insights could be used to inform talent recruitment, player contract negotiation, and team selection strategies, ultimately leading to more successful outcomes for teams and players as well.\n"
   ]
  },
  {
   "cell_type": "markdown",
   "id": "ecdedc29",
   "metadata": {},
   "source": [
    "# REFERENCES\n",
    "1. https://www.kirenz.com/post/2019-08-12-python-lasso-regression-auto/\n",
    "2. https://towardsdatascience.com/chi-square-test-with-python-d8ba98117626\n",
    "3. https://www.reneshbedre.com/blog/anova.html\n",
    "4. Rice, John. A. (2006). Mathematical Statistics and Data Analysis.\n"
   ]
  }
 ],
 "metadata": {
  "kernelspec": {
   "display_name": "Python 3 (ipykernel)",
   "language": "python",
   "name": "python3"
  },
  "language_info": {
   "codemirror_mode": {
    "name": "ipython",
    "version": 3
   },
   "file_extension": ".py",
   "mimetype": "text/x-python",
   "name": "python",
   "nbconvert_exporter": "python",
   "pygments_lexer": "ipython3",
   "version": "3.9.12"
  }
 },
 "nbformat": 4,
 "nbformat_minor": 5
}
